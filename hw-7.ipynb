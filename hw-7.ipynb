{
 "cells": [
  {
   "cell_type": "code",
   "execution_count": 9,
   "metadata": {},
   "outputs": [],
   "source": [
    "import datetime as dt"
   ]
  },
  {
   "cell_type": "code",
   "execution_count": 8,
   "metadata": {},
   "outputs": [],
   "source": [
    "#задание 1\n",
    "str1 = \"The Moscow Times - Wednesday, October 2, 2002\"\n",
    "str2 = \"The Guardian - Friday, 11.10.13\"\n",
    "str3 = \"Daily News - Thursday, 18 August 1977\"\n",
    "date1 = dt.datetime.strptime(str1, \"The Moscow Times - %A, %B %d, %Y\")\n",
    "date2 = dt.datetime.strptime(str2, \"The Guardian - %A, %d.%m.%y\")\n",
    "date3 = dt.datetime.strptime(str3, \"Daily News - %A, %d %B %Y\")"
   ]
  },
  {
   "cell_type": "code",
   "execution_count": 6,
   "metadata": {},
   "outputs": [],
   "source": [
    "#задание 2\n",
    "def CheakDate(string):\n",
    "    try:\n",
    "        newDate = dt.datetime(int(string[:4]), int(string[5:7]), int(string[8:]))\n",
    "        return True\n",
    "    except ValueError:\n",
    "        return False"
   ]
  },
  {
   "cell_type": "code",
   "execution_count": 24,
   "metadata": {},
   "outputs": [
    {
     "name": "stdout",
     "output_type": "stream",
     "text": [
      "True False\n"
     ]
    }
   ],
   "source": [
    "#проверка задания 2\n",
    "print(CheakDate(\"1998-11-01\"), CheakDate(\"1998-11-36\"))"
   ]
  },
  {
   "cell_type": "code",
   "execution_count": 25,
   "metadata": {},
   "outputs": [],
   "source": [
    "#задание 3\n",
    "def DateRange(start_date, end_date):\n",
    "    out_dates = []\n",
    "    if not start_date[4] == start_date[7] == end_date[4] == end_date[7] == \"-\": #проверка разделителя\n",
    "        return out_dates\n",
    "    if not CheakDate(start_date):\n",
    "        return out_dates\n",
    "    if not CheakDate(end_date):\n",
    "        return out_dates\n",
    "    if start_date > end_date:\n",
    "        return out_dates\n",
    "    start = dt.datetime.strptime(start_date, \"%Y-%m-%d\")\n",
    "    while start.strftime('%Y-%m-%d') <= end_date:\n",
    "        out_dates.append(start)\n",
    "        start += dt.timedelta(days=1)\n",
    "    return out_dates"
   ]
  },
  {
   "cell_type": "code",
   "execution_count": null,
   "metadata": {},
   "outputs": [],
   "source": [
    "#задание 4\n",
    "Что значит ошибка list index out of range?\n",
    "\n",
    "Индекс вышел за пределы разрешенных для списка\n",
    "\n",
    "Почему при первом запуске функция работает корректно, а при втором - нет?\n",
    "\n",
    "Потому что DEFAULT_USER_COUNT не обновляется после изменения списка и при втором вызове мы пытаемся вернуть не существующий элемент"
   ]
  }
 ],
 "metadata": {
  "kernelspec": {
   "display_name": "Python 3",
   "language": "python",
   "name": "python3"
  },
  "language_info": {
   "codemirror_mode": {
    "name": "ipython",
    "version": 3
   },
   "file_extension": ".py",
   "mimetype": "text/x-python",
   "name": "python",
   "nbconvert_exporter": "python",
   "pygments_lexer": "ipython3",
   "version": "3.8.5"
  }
 },
 "nbformat": 4,
 "nbformat_minor": 4
}
